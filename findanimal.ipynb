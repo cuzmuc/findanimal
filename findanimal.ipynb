{
  "nbformat": 4,
  "nbformat_minor": 0,
  "metadata": {
    "colab": {
      "provenance": [],
      "gpuType": "T4"
    },
    "kernelspec": {
      "name": "python3",
      "display_name": "Python 3"
    },
    "language_info": {
      "name": "python"
    },
    "accelerator": "GPU"
  },
  "cells": [
    {
      "cell_type": "markdown",
      "source": [
        "# Clone the findanimal repository using Git"
      ],
      "metadata": {
        "id": "F4BDRHeUZ88l"
      }
    },
    {
      "cell_type": "code",
      "source": [
        "!git clone https://github.com/cuzmuc/findanimal.git\n",
        "%cd /content/findanimal"
      ],
      "metadata": {
        "id": "q3ZHHGuWaG2T"
      },
      "execution_count": null,
      "outputs": []
    },
    {
      "cell_type": "markdown",
      "source": [
        "# Install dependencies"
      ],
      "metadata": {
        "id": "RssvamhbaOfT"
      }
    },
    {
      "cell_type": "code",
      "source": [
        "!bash script/install.sh"
      ],
      "metadata": {
        "id": "rWzKRMTraUjf"
      },
      "execution_count": null,
      "outputs": []
    },
    {
      "cell_type": "markdown",
      "source": [
        "# Download *ckpt*"
      ],
      "metadata": {
        "id": "avXNchWSabm8"
      }
    },
    {
      "cell_type": "code",
      "source": [
        "!mkdir ./ckpt\n",
        "!bash script/download.sh"
      ],
      "metadata": {
        "id": "bybseiFMaeS4"
      },
      "execution_count": null,
      "outputs": []
    },
    {
      "cell_type": "markdown",
      "source": [
        "# *Run* demo"
      ],
      "metadata": {
        "id": "fQB_gjStamR2"
      }
    },
    {
      "cell_type": "code",
      "source": [
        "!mkdir ./result\n",
        "!rm -f ./result/*.*\n",
        "!python findanimal.py --source=./test03.jpeg"
      ],
      "metadata": {
        "id": "eTmQuZ0Daucp"
      },
      "execution_count": null,
      "outputs": []
    },
    {
      "cell_type": "code",
      "source": [],
      "metadata": {
        "id": "7na-48Iq4Vd1"
      },
      "execution_count": null,
      "outputs": []
    }
  ]
}